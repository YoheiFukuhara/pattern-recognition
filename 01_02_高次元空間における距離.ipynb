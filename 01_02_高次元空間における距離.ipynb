{
  "nbformat": 4,
  "nbformat_minor": 0,
  "metadata": {
    "colab": {
      "name": "01_02.高次元空間における距離.ipynb",
      "provenance": [],
      "collapsed_sections": [],
      "authorship_tag": "ABX9TyOwGd4YLjlCLasFn+2bMNGp",
      "include_colab_link": true
    },
    "kernelspec": {
      "name": "python3",
      "display_name": "Python 3"
    }
  },
  "cells": [
    {
      "cell_type": "markdown",
      "metadata": {
        "id": "view-in-github",
        "colab_type": "text"
      },
      "source": [
        "<a href=\"https://colab.research.google.com/github/YoheiFukuhara/pattern-recognition/blob/master/01_02_%E9%AB%98%E6%AC%A1%E5%85%83%E7%A9%BA%E9%96%93%E3%81%AB%E3%81%8A%E3%81%91%E3%82%8B%E8%B7%9D%E9%9B%A2.ipynb\" target=\"_parent\"><img src=\"https://colab.research.google.com/assets/colab-badge.svg\" alt=\"Open In Colab\"/></a>"
      ]
    },
    {
      "cell_type": "code",
      "metadata": {
        "id": "A9PE7kQSDEGt",
        "colab_type": "code",
        "colab": {}
      },
      "source": [
        "import numpy as np\n",
        "import matplotlib.pyplot as plt"
      ],
      "execution_count": 0,
      "outputs": []
    },
    {
      "cell_type": "code",
      "metadata": {
        "id": "-4hNpMk4DTQD",
        "colab_type": "code",
        "colab": {}
      },
      "source": [
        "# 乱数シードを指定\n",
        "np.random.seed(0)\n",
        "# サンプル数を指定\n",
        "n_samples = 10000\n",
        "# 次元数は2の累乗とする(0乗〜14乗)\n",
        "n_dimensions = [2 ** i for i in range(15)]\n",
        "# 答えを格納するリストを初期化\n",
        "ratios = []\n",
        "maxes = []\n",
        "minima = []"
      ],
      "execution_count": 0,
      "outputs": []
    },
    {
      "cell_type": "code",
      "metadata": {
        "id": "s6xRTMUHDU58",
        "colab_type": "code",
        "outputId": "f0e43edc-b180-4b3a-d4b1-f84670e14ccc",
        "colab": {
          "base_uri": "https://localhost:8080/",
          "height": 312
        }
      },
      "source": [
        "%%time\n",
        "# 各次元について繰り返し処理\n",
        "for dim in n_dimensions:\n",
        "    # 標準正規分布に従うn_samples×dimの2次元配列数値データを取得\n",
        "    data = np.random.randn(n_samples, dim)\n",
        "    # 代表点の配列インデックスを決める\n",
        "    index = np.random.randint(0, n_samples - 1)\n",
        "    # 各サンプルと代表点とのL2ノルム(ユークリッド距離)を算出\n",
        "    distances = np.linalg.norm(data - data[index], ord=2, axis=1)\n",
        "    \n",
        "    # 代表点と代表点との距離は必ず0となるので削除\n",
        "    distances = np.delete(distances, index)\n",
        "    # 最大・最小を取得\n",
        "    max_ = np.max(distances)\n",
        "    min_ = np.min(distances)\n",
        "    # 最大と最小の差の比を算出し、リストに追加\n",
        "    ratios.append((max_ - min_) / min_)\n",
        "    maxes.append(max_)\n",
        "    minima.append(min_)\n",
        "    print(dim, '\\t', max_, '\\t', min_, '\\t', (max_ - min_) / min_)"
      ],
      "execution_count": 0,
      "outputs": [
        {
          "output_type": "stream",
          "text": [
            "1 \t 5.359172545164386 \t 0.00035299117213050124 \t 15181.171590350972\n",
            "2 \t 5.831315425079145 \t 0.005934462363393213 \t 981.6189919157075\n",
            "4 \t 5.905205651543053 \t 0.18828165461006646 \t 30.36368045932464\n",
            "8 \t 7.2553317629094645 \t 0.8538000326494812 \t 7.497694407898981\n",
            "16 \t 8.840701987368139 \t 2.304191325670082 \t 2.836791627881497\n",
            "32 \t 11.58621761444893 \t 5.068926036688435 \t 1.2857342029828251\n",
            "64 \t 14.899525977988406 \t 7.738465451937276 \t 0.9253850870728386\n",
            "128 \t 19.58528969136541 \t 12.983120392436335 \t 0.5085194544429662\n",
            "256 \t 25.65295326375792 \t 18.4717844504555 \t 0.3887642167200221\n",
            "512 \t 36.36043720561854 \t 29.655835956103306 \t 0.22608033236491498\n",
            "1024 \t 48.31260962868733 \t 41.26863564105555 \t 0.1706858944622869\n",
            "2048 \t 67.66436563679383 \t 61.23071827171184 \t 0.10507221778017743\n",
            "4096 \t 93.80693694417424 \t 87.39825273425338 \t 0.07332737222341693\n",
            "8192 \t 131.04963618645095 \t 124.79133964233239 \t 0.050150087033728676\n",
            "16384 \t 183.58080781699545 \t 177.250869105564 \t 0.03571174992468769\n",
            "CPU times: user 16.7 s, sys: 20.4 ms, total: 16.8 s\n",
            "Wall time: 16.8 s\n"
          ],
          "name": "stdout"
        }
      ]
    },
    {
      "cell_type": "code",
      "metadata": {
        "id": "lqew1SFSDWlb",
        "colab_type": "code",
        "outputId": "35d9493f-8d71-4dff-cc1d-74196a82a65f",
        "colab": {
          "base_uri": "https://localhost:8080/",
          "height": 317
        }
      },
      "source": [
        "# 横軸=次元数、縦軸=最大と最小の差の比で両軸対数折れ線グラフを表示\n",
        "plt.title('Curse of dimensionality')\n",
        "plt.xlabel('Number of dimensions')\n",
        "plt.ylabel('Euclidian distance ratio')\n",
        "plt.xscale('log')\n",
        "plt.yscale('log')\n",
        "plt.plot(n_dimensions, ratios)"
      ],
      "execution_count": 0,
      "outputs": [
        {
          "output_type": "execute_result",
          "data": {
            "text/plain": [
              "[<matplotlib.lines.Line2D at 0x7f5213b55828>]"
            ]
          },
          "metadata": {
            "tags": []
          },
          "execution_count": 12
        },
        {
          "output_type": "display_data",
          "data": {
            "image/png": "[encoded data removed]",
            "text/plain": [
              "<Figure size 432x288 with 1 Axes>"
            ]
          },
          "metadata": {
            "tags": []
          }
        }
      ]
    },
    {
      "cell_type": "code",
      "metadata": {
        "id": "8kwD9FibDY-h",
        "colab_type": "code",
        "outputId": "301ba5bc-b0d6-4da1-b004-7931d3fc5cbc",
        "colab": {
          "base_uri": "https://localhost:8080/",
          "height": 317
        }
      },
      "source": [
        "# 横軸=次元数、縦軸=最大と最小を両軸対数折れ線グラフ表示\n",
        "plt.title('Curse of dimensionality')\n",
        "plt.xlabel('Number of dimensions')\n",
        "plt.ylabel('Euclidian distances')\n",
        "plt.xscale('log')\n",
        "plt.yscale('log')\n",
        "plt.plot(n_dimensions, maxes, label='max')\n",
        "plt.plot(n_dimensions, minima, label='min')\n",
        "plt.legend()"
      ],
      "execution_count": 0,
      "outputs": [
        {
          "output_type": "execute_result",
          "data": {
            "text/plain": [
              "<matplotlib.legend.Legend at 0x7f52136f2f60>"
            ]
          },
          "metadata": {
            "tags": []
          },
          "execution_count": 15
        },
        {
          "output_type": "display_data",
          "data": {
            "image/png": "[encoded data removed]",
            "text/plain": [
              "<Figure size 432x288 with 1 Axes>"
            ]
          },
          "metadata": {
            "tags": []
          }
        }
      ]
    },
    {
      "cell_type": "code",
      "metadata": {
        "id": "rLkHTjKZKXTY",
        "colab_type": "code",
        "colab": {}
      },
      "source": [
        ""
      ],
      "execution_count": 0,
      "outputs": []
    }
  ]
}