{
  "nbformat": 4,
  "nbformat_minor": 0,
  "metadata": {
    "colab": {
      "name": "01_01.超立方体.ipynb",
      "provenance": [],
      "collapsed_sections": [],
      "authorship_tag": "ABX9TyOIEEz0M9uZMfJx6G2Uv6ec",
      "include_colab_link": true
    },
    "kernelspec": {
      "name": "python3",
      "display_name": "Python 3"
    }
  },
  "cells": [
    {
      "cell_type": "markdown",
      "metadata": {
        "id": "view-in-github",
        "colab_type": "text"
      },
      "source": [
        "<a href=\"https://colab.research.google.com/github/YoheiFukuhara/pattern-recognition/blob/master/01_01_%E8%B6%85%E7%AB%8B%E6%96%B9%E4%BD%93.ipynb\" target=\"_parent\"><img src=\"https://colab.research.google.com/assets/colab-badge.svg\" alt=\"Open In Colab\"/></a>"
      ]
    },
    {
      "cell_type": "code",
      "metadata": {
        "id": "A9PE7kQSDEGt",
        "colab_type": "code",
        "colab": {}
      },
      "source": [
        "import math\n",
        "\n",
        "import numpy as np\n",
        "import matplotlib.pyplot as plt"
      ],
      "execution_count": 0,
      "outputs": []
    },
    {
      "cell_type": "code",
      "metadata": {
        "id": "-4hNpMk4DTQD",
        "colab_type": "code",
        "colab": {}
      },
      "source": [
        "n_dimensions = list(range(1, 11))\n",
        "\n",
        "# 1辺の長さが2\n",
        "EDGE = 2\n",
        "\n",
        "# 答えを格納するリストを初期化\n",
        "volumes = []\n",
        "diagonals = []\n",
        "surfaces = []"
      ],
      "execution_count": 0,
      "outputs": []
    },
    {
      "cell_type": "code",
      "metadata": {
        "id": "s6xRTMUHDU58",
        "colab_type": "code",
        "outputId": "bb42f585-13c5-4ecb-a120-8e4b086931b0",
        "colab": {
          "base_uri": "https://localhost:8080/",
          "height": 52
        }
      },
      "source": [
        "%%time\n",
        "# 各次元について繰り返し処理\n",
        "for dim in n_dimensions:\n",
        "\n",
        "    # 対角線\n",
        "    diagonals.append(math.sqrt(dim)*EDGE)\n",
        "\n",
        "    # 超体積\n",
        "    volumes.append(EDGE**dim)\n",
        "\n",
        "    # 超表面積\n",
        "    surfaces.append(EDGE*dim*EDGE**(dim-1))"
      ],
      "execution_count": 0,
      "outputs": [
        {
          "output_type": "stream",
          "text": [
            "CPU times: user 27 µs, sys: 0 ns, total: 27 µs\n",
            "Wall time: 31.7 µs\n"
          ],
          "name": "stdout"
        }
      ]
    },
    {
      "cell_type": "code",
      "metadata": {
        "id": "lqew1SFSDWlb",
        "colab_type": "code",
        "outputId": "63781c24-9c9a-4500-9a8a-7f6ccdc904f0",
        "colab": {
          "base_uri": "https://localhost:8080/",
          "height": 313
        }
      },
      "source": [
        "# 横軸=次元数、縦軸=超立方体の各特徴で両軸折れ線グラフを表示\n",
        "plt.title('Hypercume Features')\n",
        "plt.xlabel('Number of dimensions')\n",
        "plt.plot(n_dimensions, diagonals, label=\"diagonal\")\n",
        "plt.plot(n_dimensions, volumes, label=\"volume\")\n",
        "plt.plot(n_dimensions, surfaces, label=\"surface\")\n",
        "plt.legend()"
      ],
      "execution_count": 0,
      "outputs": [
        {
          "output_type": "execute_result",
          "data": {
            "text/plain": [
              "<matplotlib.legend.Legend at 0x7ff775aeca20>"
            ]
          },
          "metadata": {
            "tags": []
          },
          "execution_count": 4
        },
        {
          "output_type": "display_data",
          "data": {
            "image/png": "[encoded data removed]",
            "text/plain": [
              "<Figure size 432x288 with 1 Axes>"
            ]
          },
          "metadata": {
            "tags": []
          }
        }
      ]
    },
    {
      "cell_type": "code",
      "metadata": {
        "id": "8kwD9FibDY-h",
        "colab_type": "code",
        "colab": {}
      },
      "source": [
        ""
      ],
      "execution_count": 0,
      "outputs": []
    }
  ]
}